{
 "cells": [
  {
   "cell_type": "markdown",
   "id": "94db8d0f-2dba-41af-a860-fcbe60c1824b",
   "metadata": {},
   "source": [
    "# Generate RTX-KG2 Full JSON to Parquet"
   ]
  },
  {
   "cell_type": "code",
   "execution_count": 12,
   "id": "e598413e-509b-48b9-aab3-1c703b364c09",
   "metadata": {},
   "outputs": [],
   "source": [
    "import gzip\n",
    "import json\n",
    "import pathlib\n",
    "import shutil\n",
    "from typing import Any, Dict, Generator, List\n",
    "\n",
    "import awkward as ak\n",
    "import ijson\n",
    "import pyarrow as pa\n",
    "import requests\n",
    "from genson import SchemaBuilder\n",
    "from pyarrow import parquet\n",
    "from rtx_kg2_functions import (\n",
    "    count_items_under_top_level_name,\n",
    "    find_top_level_names,\n",
    "    parse_items_by_topmost_item_name,\n",
    "    parse_metadata_by_object_name,\n",
    ")"
   ]
  },
  {
   "cell_type": "code",
   "execution_count": 13,
   "id": "46ab8fed-b335-4d55-a73e-a6904bc0bc46",
   "metadata": {
    "lines_to_next_cell": 2
   },
   "outputs": [],
   "source": [
    "# set data to be used throughout notebook\n",
    "chunk_size = 10000\n",
    "data_dir = \"data\"\n",
    "parquet_dir = f\"{data_dir}/\"\n",
    "source_data_url = \"https://github.com/ncats/translator-lfs-artifacts/raw/main/files/kg2c_lite_2.8.4.json.gz\"\n",
    "target_extracted_data = (\n",
    "    f\"{data_dir}/{pathlib.Path(source_data_url).name.replace('.json.gz', '.json')}\"\n",
    ")\n",
    "parquet_dir = target_extracted_data.replace(\".json\", \".full.dataset.parquet\")\n",
    "target_extracted_sample_data_schema_file = target_extracted_data.replace(\n",
    "    \".json\", \".sample.schema.json\"\n",
    ")\n",
    "with open(target_extracted_sample_data_schema_file, \"r\") as file:\n",
    "    # read the schema and and compress spacing within new schema string\n",
    "    target_extracted_sample_data_schema = json.dumps(json.loads(file.read()))"
   ]
  },
  {
   "cell_type": "code",
   "execution_count": 14,
   "id": "3dc7f93e-e2ea-4840-868b-885afaff38f9",
   "metadata": {},
   "outputs": [],
   "source": [
    "pathlib.Path(parquet_dir).mkdir(exist_ok=True)"
   ]
  },
  {
   "cell_type": "code",
   "execution_count": null,
   "id": "211ad500-7684-43cc-b124-97d1f6063a93",
   "metadata": {},
   "outputs": [],
   "source": [
    "# show the top level object names for json file\n",
    "top_level_names = list(find_top_level_names(target_extracted_data))\n",
    "print(top_level_names)"
   ]
  },
  {
   "cell_type": "code",
   "execution_count": null,
   "id": "c516c30b-c763-4183-825d-32b2e18aa899",
   "metadata": {},
   "outputs": [],
   "source": [
    "# count the number of items under each top level name\n",
    "top_level_name_item_counts = {\n",
    "    top_level_name: count_items_under_top_level_name(\n",
    "        target_extracted_data, top_level_name\n",
    "    )\n",
    "    for top_level_name in top_level_names\n",
    "}\n",
    "print(top_level_name_item_counts)"
   ]
  },
  {
   "cell_type": "code",
   "execution_count": null,
   "id": "f34698d8-9959-4eb3-a12b-3107dce781da",
   "metadata": {},
   "outputs": [],
   "source": [
    "# gather metadata names by inference from item count\n",
    "metadata_top_level_names = [\n",
    "    top_level_name\n",
    "    for top_level_name, count in top_level_name_item_counts.items()\n",
    "    if count == 0\n",
    "]\n",
    "metadata_top_level_names"
   ]
  },
  {
   "cell_type": "code",
   "execution_count": null,
   "id": "d633299d-f8b3-4be6-abf7-5d676628c88c",
   "metadata": {},
   "outputs": [],
   "source": [
    "# build a metadata dict\n",
    "metadata_dict = dict(\n",
    "    {\n",
    "        metadata_top_level_name: parse_metadata_by_object_name(\n",
    "            target_extracted_data, metadata_top_level_name\n",
    "        )\n",
    "        for metadata_top_level_name in metadata_top_level_names\n",
    "    },\n",
    "    **{\"source_data_json_schema\": target_extracted_sample_data_schema}\n",
    ")\n",
    "metadata_dict"
   ]
  },
  {
   "cell_type": "code",
   "execution_count": 8,
   "id": "754af69c-3394-4c91-8c45-57b4e54df3c7",
   "metadata": {},
   "outputs": [],
   "source": [
    "# build a sample of data using limited number of items\n",
    "\n",
    "# specify a map for from to specification\n",
    "# to move these to first two cols of related table\n",
    "edges_from_to_map = {\"from\": \"subject\", \"to\": \"object\"}\n",
    "\n",
    "sample_items_dict = {}\n",
    "for top_level_name in [\n",
    "    name for name in top_level_names if name not in metadata_top_level_names\n",
    "]:\n",
    "    dataset_path = f\"{parquet_dir}/{top_level_name}\"\n",
    "    pathlib.Path(dataset_path).mkdir(exist_ok=True)\n",
    "    items = parse_items_by_topmost_item_name(\n",
    "        target_extracted_sample_data, top_level_name, chunk_size, 1\n",
    "    )\n",
    "    for idx, value in enumerate(items):\n",
    "        if top_level_name == \"nodes\":\n",
    "            parquet.write_table(\n",
    "                table=pa.Table.from_pylist(list(value)).replace_schema_metadata(\n",
    "                    metadata_dict\n",
    "                ),\n",
    "                where=f\"{dataset_path}/{top_level_name}.{idx}.parquet\",\n",
    "            )\n",
    "        elif top_level_name == \"edges\":\n",
    "            table = pa.Table.from_pylist(list(value))\n",
    "            table = table.select(\n",
    "                [edges_from_to_map[\"from\"], edges_from_to_map[\"to\"]]\n",
    "                + [\n",
    "                    name\n",
    "                    for name in table.schema.names\n",
    "                    if name not in edges_from_to_map.values()\n",
    "                ]\n",
    "            )\n",
    "\n",
    "            parquet.write_table(\n",
    "                table=table.replace_schema_metadata(metadata_dict),\n",
    "                where=f\"{dataset_path}/{top_level_name}.{idx}.parquet\",\n",
    "            )"
   ]
  }
 ],
 "metadata": {
  "kernelspec": {
   "display_name": "Python 3 (ipykernel)",
   "language": "python",
   "name": "python3"
  },
  "language_info": {
   "codemirror_mode": {
    "name": "ipython",
    "version": 3
   },
   "file_extension": ".py",
   "mimetype": "text/x-python",
   "name": "python",
   "nbconvert_exporter": "python",
   "pygments_lexer": "ipython3",
   "version": "3.11.2"
  }
 },
 "nbformat": 4,
 "nbformat_minor": 5
}
