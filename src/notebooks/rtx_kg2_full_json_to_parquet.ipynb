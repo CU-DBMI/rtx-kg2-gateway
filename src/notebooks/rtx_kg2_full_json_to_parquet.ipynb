{
 "cells": [
  {
   "cell_type": "markdown",
   "id": "94db8d0f-2dba-41af-a860-fcbe60c1824b",
   "metadata": {},
   "source": [
    "# Generate RTX-KG2 Full JSON to Parquet"
   ]
  },
  {
   "cell_type": "code",
   "execution_count": 1,
   "id": "e598413e-509b-48b9-aab3-1c703b364c09",
   "metadata": {},
   "outputs": [],
   "source": [
    "import gzip\n",
    "import json\n",
    "import pathlib\n",
    "import shutil\n",
    "from typing import Any, Dict, Generator, List\n",
    "\n",
    "import awkward as ak\n",
    "import ijson\n",
    "import pyarrow as pa\n",
    "import requests\n",
    "from genson import SchemaBuilder\n",
    "from pyarrow import parquet\n",
    "from rtx_kg2_functions import (\n",
    "    count_items_under_top_level_name,\n",
    "    find_top_level_names,\n",
    "    parse_items_by_topmost_item_name,\n",
    "    parse_metadata_by_object_name,\n",
    ")"
   ]
  },
  {
   "cell_type": "code",
   "execution_count": 2,
   "id": "46ab8fed-b335-4d55-a73e-a6904bc0bc46",
   "metadata": {
    "lines_to_next_cell": 2
   },
   "outputs": [],
   "source": [
    "# set data to be used throughout notebook\n",
    "chunk_size = 500000\n",
    "data_dir = \"data\"\n",
    "parquet_dir = f\"{data_dir}/\"\n",
    "source_data_url = \"https://github.com/ncats/translator-lfs-artifacts/raw/main/files/kg2c_lite_2.8.4.json.gz\"\n",
    "target_extracted_data = (\n",
    "    f\"{data_dir}/{pathlib.Path(source_data_url).name.replace('.json.gz', '.json')}\"\n",
    ")\n",
    "parquet_dir = target_extracted_data.replace(\".json\", \".full.dataset.parquet\")\n",
    "target_extracted_sample_data_schema_file = target_extracted_data.replace(\n",
    "    \".json\", \".sample.schema.json\"\n",
    ")\n",
    "with open(target_extracted_sample_data_schema_file, \"r\") as file:\n",
    "    # read the schema and and compress spacing within new schema string\n",
    "    target_extracted_sample_data_schema = json.dumps(json.loads(file.read()))"
   ]
  },
  {
   "cell_type": "code",
   "execution_count": 3,
   "id": "3dc7f93e-e2ea-4840-868b-885afaff38f9",
   "metadata": {},
   "outputs": [],
   "source": [
    "pathlib.Path(parquet_dir).mkdir(exist_ok=True)"
   ]
  },
  {
   "cell_type": "code",
   "execution_count": 4,
   "id": "211ad500-7684-43cc-b124-97d1f6063a93",
   "metadata": {},
   "outputs": [
    {
     "name": "stdout",
     "output_type": "stream",
     "text": [
      "['nodes', 'edges', 'kg2_version', 'biolink_version']\n"
     ]
    }
   ],
   "source": [
    "# show the top level object names for json file\n",
    "top_level_names = list(find_top_level_names(target_extracted_data))\n",
    "print(top_level_names)"
   ]
  },
  {
   "cell_type": "code",
   "execution_count": 5,
   "id": "c516c30b-c763-4183-825d-32b2e18aa899",
   "metadata": {},
   "outputs": [
    {
     "name": "stdout",
     "output_type": "stream",
     "text": [
      "{'nodes': 6816758, 'edges': 45363861, 'kg2_version': 0, 'biolink_version': 0}\n"
     ]
    }
   ],
   "source": [
    "# count the number of items under each top level name\n",
    "top_level_name_item_counts = {\n",
    "    top_level_name: count_items_under_top_level_name(\n",
    "        target_extracted_data, top_level_name\n",
    "    )\n",
    "    for top_level_name in top_level_names\n",
    "}\n",
    "print(top_level_name_item_counts)"
   ]
  },
  {
   "cell_type": "code",
   "execution_count": 6,
   "id": "f34698d8-9959-4eb3-a12b-3107dce781da",
   "metadata": {},
   "outputs": [
    {
     "data": {
      "text/plain": [
       "['kg2_version', 'biolink_version']"
      ]
     },
     "execution_count": 6,
     "metadata": {},
     "output_type": "execute_result"
    }
   ],
   "source": [
    "# gather metadata names by inference from item count\n",
    "metadata_top_level_names = [\n",
    "    top_level_name\n",
    "    for top_level_name, count in top_level_name_item_counts.items()\n",
    "    if count == 0\n",
    "]\n",
    "metadata_top_level_names"
   ]
  },
  {
   "cell_type": "code",
   "execution_count": 7,
   "id": "d633299d-f8b3-4be6-abf7-5d676628c88c",
   "metadata": {},
   "outputs": [
    {
     "data": {
      "text/plain": [
       "{'kg2_version': '2.8.4',\n",
       " 'biolink_version': '3.1.2',\n",
       " 'source_data_json_schema': '{\"$schema\": \"http://json-schema.org/schema#\", \"$id\": \"https://github.com/CU-DBMI/rtx-kg2-gateway/src/notebooks/data/kg2c_lite_2.8.4.schema.json\", \"description\": \"Inferred JSON Schema from subset of RTX-KG2 JSON data for documenting data provenance.\", \"type\": \"object\", \"properties\": {\"nodes\": {\"type\": \"array\", \"items\": {\"type\": \"object\", \"properties\": {\"id\": {\"type\": \"string\"}, \"name\": {\"type\": \"string\"}, \"all_categories\": {\"type\": \"array\", \"items\": {\"type\": \"string\"}}, \"category\": {\"type\": \"string\"}}, \"required\": [\"all_categories\", \"category\", \"id\", \"name\"]}}, \"edges\": {\"type\": \"array\", \"items\": {\"type\": \"object\", \"properties\": {\"qualified_object_aspect\": {\"type\": \"string\"}, \"predicate\": {\"type\": \"string\"}, \"domain_range_exclusion\": {\"type\": \"string\"}, \"object\": {\"type\": \"string\"}, \"qualified_object_direction\": {\"type\": \"string\"}, \"id\": {\"type\": \"integer\"}, \"primary_knowledge_source\": {\"type\": \"string\"}, \"subject\": {\"type\": \"string\"}, \"qualified_predicate\": {\"type\": \"string\"}}, \"required\": [\"domain_range_exclusion\", \"id\", \"object\", \"predicate\", \"primary_knowledge_source\", \"qualified_object_aspect\", \"qualified_object_direction\", \"qualified_predicate\", \"subject\"]}}, \"kg2_version\": {\"type\": \"string\"}, \"biolink_version\": {\"type\": \"string\"}}, \"required\": [\"biolink_version\", \"edges\", \"kg2_version\", \"nodes\"]}'}"
      ]
     },
     "execution_count": 7,
     "metadata": {},
     "output_type": "execute_result"
    }
   ],
   "source": [
    "# build a metadata dict\n",
    "metadata_dict = dict(\n",
    "    {\n",
    "        metadata_top_level_name: parse_metadata_by_object_name(\n",
    "            target_extracted_data, metadata_top_level_name\n",
    "        )\n",
    "        for metadata_top_level_name in metadata_top_level_names\n",
    "    },\n",
    "    **{\"source_data_json_schema\": target_extracted_sample_data_schema}\n",
    ")\n",
    "metadata_dict"
   ]
  },
  {
   "cell_type": "code",
   "execution_count": 8,
   "id": "754af69c-3394-4c91-8c45-57b4e54df3c7",
   "metadata": {},
   "outputs": [],
   "source": [
    "# build a sample of data using limited number of items\n",
    "# 500,000 rows extraction, full extraction ~500 secs\n",
    "# specify a map for from to specification\n",
    "# to move these to first two cols of related table\n",
    "edges_from_to_map = {\"from\": \"subject\", \"to\": \"object\"}\n",
    "\n",
    "sample_items_dict = {}\n",
    "for top_level_name in [\n",
    "    name for name in top_level_names if name not in metadata_top_level_names\n",
    "]:\n",
    "    dataset_path = f\"{parquet_dir}/{top_level_name}\"\n",
    "    pathlib.Path(dataset_path).mkdir(exist_ok=True)\n",
    "    items = parse_items_by_topmost_item_name(\n",
    "        target_extracted_data, top_level_name, chunk_size, 0\n",
    "    )\n",
    "    for idx, value in enumerate(items):\n",
    "        if top_level_name == \"nodes\":\n",
    "            parquet.write_table(\n",
    "                table=pa.Table.from_pylist(list(value)).replace_schema_metadata(\n",
    "                    metadata_dict\n",
    "                ),\n",
    "                where=f\"{dataset_path}/{top_level_name}.{idx}.parquet\",\n",
    "            )\n",
    "        elif top_level_name == \"edges\":\n",
    "            table = pa.Table.from_pylist(list(value))\n",
    "            table = table.select(\n",
    "                [edges_from_to_map[\"from\"], edges_from_to_map[\"to\"]]\n",
    "                + [\n",
    "                    name\n",
    "                    for name in table.schema.names\n",
    "                    if name not in edges_from_to_map.values()\n",
    "                ]\n",
    "            )\n",
    "\n",
    "            parquet.write_table(\n",
    "                table=table.replace_schema_metadata(metadata_dict),\n",
    "                where=f\"{dataset_path}/{top_level_name}.{idx}.parquet\",\n",
    "            )"
   ]
  },
  {
   "cell_type": "code",
   "execution_count": 21,
   "id": "8c6312d4-ac07-406d-b66a-4d876cdbc2c5",
   "metadata": {},
   "outputs": [
    {
     "name": "stdout",
     "output_type": "stream",
     "text": [
      "Row counts match from JSON object to Parquet for top level object: nodes\n",
      "Row counts match from JSON object to Parquet for top level object: edges\n"
     ]
    }
   ],
   "source": [
    "# validate the counts to naively check that the data transferred properly\n",
    "\n",
    "for top_level_name in [\n",
    "    name for name in top_level_names if name not in metadata_top_level_names\n",
    "]:\n",
    "    # compare the count of objects from JSON vs Parquet\n",
    "    if top_level_name_item_counts[top_level_name] != sum(\n",
    "        # read the parquet dataset as a list of files\n",
    "        # then count the num rows using file-based metadata\n",
    "        # (avoids reading the entirety of dataset values)\n",
    "        [\n",
    "            parquet.read_metadata(parquet_file).num_rows\n",
    "            for parquet_file in parquet.ParquetDataset(\n",
    "                f\"{parquet_dir}/{top_level_name}\"\n",
    "            ).files\n",
    "        ]\n",
    "    ):\n",
    "        raise ValueError(\n",
    "            f\"Mismatch in row counts for top level object: {top_level_name}\"\n",
    "        )\n",
    "    print(\n",
    "        f\"Row counts match from JSON object to Parquet for top level object: {top_level_name}\"\n",
    "    )"
   ]
  }
 ],
 "metadata": {
  "kernelspec": {
   "display_name": "Python 3 (ipykernel)",
   "language": "python",
   "name": "python3"
  },
  "language_info": {
   "codemirror_mode": {
    "name": "ipython",
    "version": 3
   },
   "file_extension": ".py",
   "mimetype": "text/x-python",
   "name": "python",
   "nbconvert_exporter": "python",
   "pygments_lexer": "ipython3",
   "version": "3.11.2"
  }
 },
 "nbformat": 4,
 "nbformat_minor": 5
}
