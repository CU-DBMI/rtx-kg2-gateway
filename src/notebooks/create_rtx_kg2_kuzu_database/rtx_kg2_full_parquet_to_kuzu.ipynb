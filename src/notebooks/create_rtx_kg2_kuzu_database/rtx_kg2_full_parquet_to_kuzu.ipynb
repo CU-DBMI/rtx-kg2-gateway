{
 "cells": [
  {
   "cell_type": "markdown",
   "id": "94db8d0f-2dba-41af-a860-fcbe60c1824b",
   "metadata": {},
   "source": [
    "# Generate RTX-KG2 Full Parquet to Kuzu"
   ]
  },
  {
   "cell_type": "code",
   "execution_count": 2,
   "id": "e598413e-509b-48b9-aab3-1c703b364c09",
   "metadata": {},
   "outputs": [],
   "source": [
    "import gzip\n",
    "import json\n",
    "import pathlib\n",
    "import shutil\n",
    "from typing import Any, Dict, Generator, List, Literal\n",
    "\n",
    "import awkward as ak\n",
    "import ijson\n",
    "import kuzu\n",
    "import pyarrow as pa\n",
    "import requests\n",
    "from genson import SchemaBuilder\n",
    "from pyarrow import parquet\n",
    "from notebooks.rtx_kg2_functions import (\n",
    "    count_items_under_top_level_name,\n",
    "    drop_table_if_exists,\n",
    "    find_top_level_names,\n",
    "    generate_cypher_table_create_stmt_from_parquet_file,\n",
    "    parse_items_by_topmost_item_name,\n",
    "    parse_metadata_by_object_name,\n",
    ")\n"
   ]
  },
  {
   "cell_type": "code",
   "execution_count": 3,
   "id": "46ab8fed-b335-4d55-a73e-a6904bc0bc46",
   "metadata": {
    "lines_to_next_cell": 2
   },
   "outputs": [
    {
     "name": "stdout",
     "output_type": "stream",
     "text": [
      "Kuzu dir: data/kg2c_lite_2.8.4.full.dataset.kuzu\n"
     ]
    }
   ],
   "source": [
    "# set data to be used throughout notebook\n",
    "chunk_size = 1\n",
    "data_dir = \"../data\"\n",
    "parquet_dir = f\"{data_dir}/\"\n",
    "source_data_url = \"https://github.com/ncats/translator-lfs-artifacts/raw/main/files/kg2c_lite_2.8.4.json.gz\"\n",
    "target_extracted_sample_data = (\n",
    "    f\"{data_dir}/{pathlib.Path(source_data_url).name.replace('.json.gz', '.json')}\"\n",
    ")\n",
    "parquet_dir = target_extracted_sample_data.replace(\".json\", \".full.dataset.parquet\")\n",
    "kuzu_dir = target_extracted_sample_data.replace(\".json\", \".full.dataset.kuzu\")\n",
    "target_extracted_sample_data_schema_file = target_extracted_sample_data.replace(\n",
    "    \".json\", \".schema.json\"\n",
    ")\n",
    "print(f\"Kuzu dir: {kuzu_dir}\")"
   ]
  },
  {
   "cell_type": "code",
   "execution_count": 4,
   "id": "3dc7f93e-e2ea-4840-868b-885afaff38f9",
   "metadata": {},
   "outputs": [],
   "source": [
    "# create path for the kuzu database to reside\n",
    "if pathlib.Path(kuzu_dir).is_dir():\n",
    "    shutil.rmtree(kuzu_dir)\n",
    "pathlib.Path(kuzu_dir).mkdir(exist_ok=True)"
   ]
  },
  {
   "cell_type": "code",
   "execution_count": 5,
   "id": "b65ae82e-cdb2-4c10-a5a5-4114c327a06c",
   "metadata": {},
   "outputs": [],
   "source": [
    "# init a Kuzu database and connection\n",
    "db = kuzu.Database(f\"{kuzu_dir}\")\n",
    "kz_conn = kuzu.Connection(db)"
   ]
  },
  {
   "cell_type": "code",
   "execution_count": 6,
   "id": "a6f88caf-239a-4be7-86ff-919d39ca10fd",
   "metadata": {},
   "outputs": [
    {
     "name": "stdout",
     "output_type": "stream",
     "text": [
      "Binder exception: Table edges does not exist.\n",
      "Warning: no need to drop table.\n",
      "Binder exception: Table nodes does not exist.\n",
      "Warning: no need to drop table.\n",
      "Using the following create statement to create table:\n",
      "\n",
      "CREATE NODE TABLE nodes(id STRING, name STRING, all_categories STRING[], category STRING, PRIMARY KEY (id))\n",
      "\n",
      "\n",
      "Using the following create statement to create table:\n",
      "\n",
      "CREATE REL TABLE edges(FROM nodes TO nodes, qualified_object_aspect STRING, predicate STRING, domain_range_exclusion STRING, qualified_object_direction STRING, id INT64, primary_knowledge_source STRING, qualified_predicate STRING)\n",
      "\n",
      "\n"
     ]
    }
   ],
   "source": [
    "dataset_name_to_cypher_table_type_map = {\"nodes\": \"node\", \"edges\": \"rel\"}\n",
    "\n",
    "drop_table_if_exists(kz_conn=kz_conn, table_name=\"edges\")\n",
    "drop_table_if_exists(kz_conn=kz_conn, table_name=\"nodes\")\n",
    "\n",
    "# note: we provide specific ordering here to ensure nodes are created before edges\n",
    "for path in [f\"{parquet_dir}/nodes\", f\"{parquet_dir}/edges\"]:\n",
    "\n",
    "    # use first file discovered as basis for schema\n",
    "    first_pq_file = next(pathlib.Path(path).glob(\"*.parquet\"))\n",
    "\n",
    "    create_stmt = generate_cypher_table_create_stmt_from_parquet_file(\n",
    "        parquet_file=first_pq_file,\n",
    "        table_type=dataset_name_to_cypher_table_type_map[first_pq_file.parent.name],\n",
    "        table_name=first_pq_file.parent.name,\n",
    "        table_pkey_parquet_field_name=\"id\",\n",
    "    )\n",
    "\n",
    "    print(f\"Using the following create statement to create table:\\n\\n{create_stmt}\\n\\n\")\n",
    "    kz_conn.execute(create_stmt)"
   ]
  },
  {
   "cell_type": "code",
   "execution_count": null,
   "id": "7a75ef8d-b58c-4937-a46e-fe22eb52af16",
   "metadata": {},
   "outputs": [
    {
     "name": "stdout",
     "output_type": "stream",
     "text": [
      "Working on kuzu ingest of parquet dataset: data/kg2c_lite_2.8.4.full.dataset.parquet/nodes \n"
     ]
    }
   ],
   "source": [
    "# note: we provide specific ordering here to ensure nodes are created before edges\n",
    "for path in [f\"{parquet_dir}/nodes\", f\"{parquet_dir}/edges\"]:\n",
    "\n",
    "    print(f\"Working on kuzu ingest of parquet dataset: {path} \")\n",
    "    # uses wildcard functionality for all files under parquet dataset dir\n",
    "    # see: https://kuzudb.com/docusaurus/data-import/csv-import#copy-from-multiple-csv-files-to-a-single-table\n",
    "    kz_conn.execute(f'COPY {pathlib.Path(path).name} FROM \"{path}/*.parquet\"')"
   ]
  }
 ],
 "metadata": {
  "kernelspec": {
   "display_name": "Python 3 (ipykernel)",
   "language": "python",
   "name": "python3"
  },
  "language_info": {
   "codemirror_mode": {
    "name": "ipython",
    "version": 3
   },
   "file_extension": ".py",
   "mimetype": "text/x-python",
   "name": "python",
   "nbconvert_exporter": "python",
   "pygments_lexer": "ipython3",
   "version": "3.11.2"
  }
 },
 "nbformat": 4,
 "nbformat_minor": 5
}
