{
 "cells": [
  {
   "cell_type": "markdown",
   "id": "0700919d-94b3-4ef4-8e47-7e5359df7268",
   "metadata": {},
   "source": [
    "# Example Cypher Read of RTX-KG2 with Kuzu\n",
    "\n",
    "Related example found online at: [https://colab.research.google.com/drive/1XGZf2xhFwvNOFCXVCi8pAPvpu0NOMmzi](https://colab.research.google.com/drive/1XGZf2xhFwvNOFCXVCi8pAPvpu0NOMmzi)"
   ]
  },
  {
   "cell_type": "code",
   "execution_count": 1,
   "id": "28694dbd-b69f-493f-94d5-1a03a042602e",
   "metadata": {},
   "outputs": [],
   "source": [
    "import os\n",
    "import pathlib\n",
    "import tarfile\n",
    "\n",
    "import kuzu\n",
    "\n",
    "from notebooks.rtx_kg2_functions import download_file, extract_tar_gz"
   ]
  },
  {
   "cell_type": "code",
   "execution_count": 2,
   "id": "4d21b2e2-3297-47c6-bab3-03329adac08e",
   "metadata": {},
   "outputs": [],
   "source": [
    "# set some variables for the work below\n",
    "source_data_url = \"https://github.com/CU-DBMI/rtx-kg2-gateway/releases/download/v0.0.1/kg2c_lite_2.8.4.full.with-metanames.dataset.kuzu.tar.gz\"\n",
    "target_dir = \"../data\"\n",
    "target_database_path = f\"{target_dir}/kg2c_lite_2.8.4.full.with-metanames.dataset.kuzu\""
   ]
  },
  {
   "cell_type": "code",
   "execution_count": 3,
   "id": "6df334db-c40b-4179-b462-a602d188cab4",
   "metadata": {},
   "outputs": [],
   "source": [
    "pathlib.Path(target_dir).mkdir(exist_ok=True)"
   ]
  },
  {
   "cell_type": "code",
   "execution_count": 4,
   "id": "38147e18-b3d7-46ce-b1ab-11785fb426e9",
   "metadata": {},
   "outputs": [],
   "source": [
    "# niave check for existing database to avoid redownloading / extracting if possible\n",
    "if not pathlib.Path(target_database_path).is_dir():\n",
    "    downloaded_file = download_file(url=source_data_url, download_dir=target_dir)\n",
    "    extract_dir = extract_tar_gz(\n",
    "        tar_gz_path=f\"{target_dir}/{downloaded_file}\", output_dir=target_dir\n",
    "    )"
   ]
  },
  {
   "cell_type": "code",
   "execution_count": 5,
   "id": "f59cb90e-8d01-4e4f-a7a8-c909cde06c68",
   "metadata": {},
   "outputs": [],
   "source": [
    "# init a Kuzu database and connection\n",
    "db = kuzu.Database(target_database_path)\n",
    "kz_conn = kuzu.Connection(db)"
   ]
  },
  {
   "cell_type": "code",
   "execution_count": 6,
   "id": "23b2dc5e-300f-42b2-8bd6-c0f1cb9aea79",
   "metadata": {},
   "outputs": [
    {
     "data": {
      "text/html": [
       "<div>\n",
       "<style scoped>\n",
       "    .dataframe tbody tr th:only-of-type {\n",
       "        vertical-align: middle;\n",
       "    }\n",
       "\n",
       "    .dataframe tbody tr th {\n",
       "        vertical-align: top;\n",
       "    }\n",
       "\n",
       "    .dataframe thead th {\n",
       "        text-align: right;\n",
       "    }\n",
       "</style>\n",
       "<table border=\"1\" class=\"dataframe\">\n",
       "  <thead>\n",
       "    <tr style=\"text-align: right;\">\n",
       "      <th></th>\n",
       "      <th>name</th>\n",
       "      <th>type</th>\n",
       "      <th>comment</th>\n",
       "    </tr>\n",
       "  </thead>\n",
       "  <tbody>\n",
       "    <tr>\n",
       "      <th>0</th>\n",
       "      <td>produces_Gene_NucleicAcidEntity</td>\n",
       "      <td>REL</td>\n",
       "      <td></td>\n",
       "    </tr>\n",
       "    <tr>\n",
       "      <th>1</th>\n",
       "      <td>treats_Protein_Cell</td>\n",
       "      <td>REL</td>\n",
       "      <td></td>\n",
       "    </tr>\n",
       "    <tr>\n",
       "      <th>2</th>\n",
       "      <td>overlaps_Gene_GeneFamily</td>\n",
       "      <td>REL</td>\n",
       "      <td></td>\n",
       "    </tr>\n",
       "    <tr>\n",
       "      <th>3</th>\n",
       "      <td>affects_CellularComponent_Cell</td>\n",
       "      <td>REL</td>\n",
       "      <td></td>\n",
       "    </tr>\n",
       "    <tr>\n",
       "      <th>4</th>\n",
       "      <td>treats_ClinicalAttribute_PopulationOfIndividua...</td>\n",
       "      <td>REL</td>\n",
       "      <td></td>\n",
       "    </tr>\n",
       "    <tr>\n",
       "      <th>...</th>\n",
       "      <td>...</td>\n",
       "      <td>...</td>\n",
       "      <td>...</td>\n",
       "    </tr>\n",
       "    <tr>\n",
       "      <th>12594</th>\n",
       "      <td>disrupts_Drug_IndividualOrganism</td>\n",
       "      <td>REL</td>\n",
       "      <td></td>\n",
       "    </tr>\n",
       "    <tr>\n",
       "      <th>12595</th>\n",
       "      <td>has_part_MolecularActivity_MolecularActivity</td>\n",
       "      <td>REL</td>\n",
       "      <td></td>\n",
       "    </tr>\n",
       "    <tr>\n",
       "      <th>12596</th>\n",
       "      <td>affects_Phenomenon_Cell</td>\n",
       "      <td>REL</td>\n",
       "      <td></td>\n",
       "    </tr>\n",
       "    <tr>\n",
       "      <th>12597</th>\n",
       "      <td>causes_Drug_InformationContentEntity</td>\n",
       "      <td>REL</td>\n",
       "      <td></td>\n",
       "    </tr>\n",
       "    <tr>\n",
       "      <th>12598</th>\n",
       "      <td>treats_Device_OrganismAttribute</td>\n",
       "      <td>REL</td>\n",
       "      <td></td>\n",
       "    </tr>\n",
       "  </tbody>\n",
       "</table>\n",
       "<p>12599 rows × 3 columns</p>\n",
       "</div>"
      ],
      "text/plain": [
       "                                                    name type comment\n",
       "0                        produces_Gene_NucleicAcidEntity  REL        \n",
       "1                                    treats_Protein_Cell  REL        \n",
       "2                               overlaps_Gene_GeneFamily  REL        \n",
       "3                         affects_CellularComponent_Cell  REL        \n",
       "4      treats_ClinicalAttribute_PopulationOfIndividua...  REL        \n",
       "...                                                  ...  ...     ...\n",
       "12594                   disrupts_Drug_IndividualOrganism  REL        \n",
       "12595       has_part_MolecularActivity_MolecularActivity  REL        \n",
       "12596                            affects_Phenomenon_Cell  REL        \n",
       "12597               causes_Drug_InformationContentEntity  REL        \n",
       "12598                    treats_Device_OrganismAttribute  REL        \n",
       "\n",
       "[12599 rows x 3 columns]"
      ]
     },
     "execution_count": 6,
     "metadata": {},
     "output_type": "execute_result"
    }
   ],
   "source": [
    "# show tables\n",
    "kz_conn.execute(\"CALL SHOW_TABLES() RETURN *;\").get_as_df()"
   ]
  },
  {
   "cell_type": "code",
   "execution_count": 7,
   "id": "a81e2aad-018d-48cf-b0cd-e08298e76d29",
   "metadata": {},
   "outputs": [
    {
     "data": {
      "text/html": [
       "<div>\n",
       "<style scoped>\n",
       "    .dataframe tbody tr th:only-of-type {\n",
       "        vertical-align: middle;\n",
       "    }\n",
       "\n",
       "    .dataframe tbody tr th {\n",
       "        vertical-align: top;\n",
       "    }\n",
       "\n",
       "    .dataframe thead th {\n",
       "        text-align: right;\n",
       "    }\n",
       "</style>\n",
       "<table border=\"1\" class=\"dataframe\">\n",
       "  <thead>\n",
       "    <tr style=\"text-align: right;\">\n",
       "      <th></th>\n",
       "      <th>d.id</th>\n",
       "      <th>d.name</th>\n",
       "      <th>d.all_categories</th>\n",
       "    </tr>\n",
       "  </thead>\n",
       "  <tbody>\n",
       "    <tr>\n",
       "      <th>0</th>\n",
       "      <td>MONDO:0008608</td>\n",
       "      <td>Down syndrome</td>\n",
       "      <td>[biolink:Disease]</td>\n",
       "    </tr>\n",
       "  </tbody>\n",
       "</table>\n",
       "</div>"
      ],
      "text/plain": [
       "            d.id         d.name   d.all_categories\n",
       "0  MONDO:0008608  Down syndrome  [biolink:Disease]"
      ]
     },
     "execution_count": 7,
     "metadata": {},
     "output_type": "execute_result"
    }
   ],
   "source": [
    "# run an example query\n",
    "kz_conn.execute(\n",
    "    \"\"\"\n",
    "    MATCH (d:Disease)\n",
    "    WHERE d.name = \"Down syndrome\"\n",
    "    RETURN d.id, d.name, d.all_categories;\n",
    "    \"\"\"\n",
    ").get_as_df()"
   ]
  }
 ],
 "metadata": {
  "kernelspec": {
   "display_name": "Python 3 (ipykernel)",
   "language": "python",
   "name": "python3"
  },
  "language_info": {
   "codemirror_mode": {
    "name": "ipython",
    "version": 3
   },
   "file_extension": ".py",
   "mimetype": "text/x-python",
   "name": "python",
   "nbconvert_exporter": "python",
   "pygments_lexer": "ipython3",
   "version": "3.11.2"
  }
 },
 "nbformat": 4,
 "nbformat_minor": 5
}
