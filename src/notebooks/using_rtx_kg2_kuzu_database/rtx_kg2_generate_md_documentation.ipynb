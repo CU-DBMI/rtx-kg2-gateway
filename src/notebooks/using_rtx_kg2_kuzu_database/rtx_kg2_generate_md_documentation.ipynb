{
 "cells": [
  {
   "cell_type": "markdown",
   "id": "0700919d-94b3-4ef4-8e47-7e5359df7268",
   "metadata": {},
   "source": [
    "# Generate Markdown Documentation on RTX-KG2 with Kuzu\n",
    "\n",
    "Use pip install found below for standalone use through external environments (such as Google Colab)."
   ]
  },
  {
   "cell_type": "code",
   "execution_count": null,
   "id": "956a8a44-9df6-43a3-8dd1-bb7803c1b6f3",
   "metadata": {},
   "outputs": [],
   "source": [
    "# for installation in external runtime environments\n",
    "!pip install \"git+https://github.com/CU-DBMI/rtx-kg2-gateway\""
   ]
  },
  {
   "cell_type": "code",
   "execution_count": 1,
   "id": "28694dbd-b69f-493f-94d5-1a03a042602e",
   "metadata": {},
   "outputs": [],
   "source": [
    "import json\n",
    "import os\n",
    "import pathlib\n",
    "import tarfile\n",
    "\n",
    "import kuzu\n",
    "from genson import SchemaBuilder\n",
    "\n",
    "from notebooks import (\n",
    "    download_file,\n",
    "    extract_tar_gz,\n",
    "    infer_generic_json_schema_from_object,\n",
    ")"
   ]
  },
  {
   "cell_type": "code",
   "execution_count": 2,
   "id": "4d21b2e2-3297-47c6-bab3-03329adac08e",
   "metadata": {},
   "outputs": [],
   "source": [
    "# set some variables for the work below\n",
    "source_data_url = \"https://github.com/CU-DBMI/rtx-kg2-gateway/releases/download/v0.0.1/kg2c_lite_2.8.4.full.with-metanames.dataset.kuzu.tar.gz\"\n",
    "target_dir = \"../data\"\n",
    "target_database_path = f\"{target_dir}/kg2c_lite_2.8.4.full.with-metanames.dataset.kuzu\""
   ]
  },
  {
   "cell_type": "code",
   "execution_count": 3,
   "id": "6df334db-c40b-4179-b462-a602d188cab4",
   "metadata": {},
   "outputs": [],
   "source": [
    "# create a target download path\n",
    "pathlib.Path(target_dir).mkdir(exist_ok=True)"
   ]
  },
  {
   "cell_type": "code",
   "execution_count": 4,
   "id": "38147e18-b3d7-46ce-b1ab-11785fb426e9",
   "metadata": {},
   "outputs": [],
   "source": [
    "# niave check for existing database to avoid redownloading / extracting if possible\n",
    "if not pathlib.Path(target_database_path).is_dir():\n",
    "    downloaded_file = download_file(url=source_data_url, download_dir=target_dir)\n",
    "    extract_dir = extract_tar_gz(\n",
    "        tar_gz_path=f\"{target_dir}/{downloaded_file}\", output_dir=target_dir\n",
    "    )"
   ]
  },
  {
   "cell_type": "code",
   "execution_count": 5,
   "id": "f59cb90e-8d01-4e4f-a7a8-c909cde06c68",
   "metadata": {},
   "outputs": [],
   "source": [
    "# init a Kuzu database and connection\n",
    "db = kuzu.Database(target_database_path)\n",
    "kz_conn = kuzu.Connection(db)"
   ]
  },
  {
   "cell_type": "code",
   "execution_count": 6,
   "id": "23b2dc5e-300f-42b2-8bd6-c0f1cb9aea79",
   "metadata": {},
   "outputs": [
    {
     "data": {
      "text/html": [
       "<div>\n",
       "<style scoped>\n",
       "    .dataframe tbody tr th:only-of-type {\n",
       "        vertical-align: middle;\n",
       "    }\n",
       "\n",
       "    .dataframe tbody tr th {\n",
       "        vertical-align: top;\n",
       "    }\n",
       "\n",
       "    .dataframe thead th {\n",
       "        text-align: right;\n",
       "    }\n",
       "</style>\n",
       "<table border=\"1\" class=\"dataframe\">\n",
       "  <thead>\n",
       "    <tr style=\"text-align: right;\">\n",
       "      <th></th>\n",
       "      <th>name</th>\n",
       "      <th>type</th>\n",
       "    </tr>\n",
       "  </thead>\n",
       "  <tbody>\n",
       "    <tr>\n",
       "      <th>0</th>\n",
       "      <td>Activity</td>\n",
       "      <td>NODE</td>\n",
       "    </tr>\n",
       "    <tr>\n",
       "      <th>1</th>\n",
       "      <td>Agent</td>\n",
       "      <td>NODE</td>\n",
       "    </tr>\n",
       "    <tr>\n",
       "      <th>2</th>\n",
       "      <td>AnatomicalEntity</td>\n",
       "      <td>NODE</td>\n",
       "    </tr>\n",
       "    <tr>\n",
       "      <th>3</th>\n",
       "      <td>Behavior</td>\n",
       "      <td>NODE</td>\n",
       "    </tr>\n",
       "    <tr>\n",
       "      <th>4</th>\n",
       "      <td>BehavioralFeature</td>\n",
       "      <td>NODE</td>\n",
       "    </tr>\n",
       "    <tr>\n",
       "      <th>...</th>\n",
       "      <td>...</td>\n",
       "      <td>...</td>\n",
       "    </tr>\n",
       "    <tr>\n",
       "      <th>118</th>\n",
       "      <td>superclass_of</td>\n",
       "      <td>REL_GROUP</td>\n",
       "    </tr>\n",
       "    <tr>\n",
       "      <th>119</th>\n",
       "      <td>temporally_related_to</td>\n",
       "      <td>REL_GROUP</td>\n",
       "    </tr>\n",
       "    <tr>\n",
       "      <th>120</th>\n",
       "      <td>transcribed_from</td>\n",
       "      <td>REL_GROUP</td>\n",
       "    </tr>\n",
       "    <tr>\n",
       "      <th>121</th>\n",
       "      <td>translates_to</td>\n",
       "      <td>REL_GROUP</td>\n",
       "    </tr>\n",
       "    <tr>\n",
       "      <th>122</th>\n",
       "      <td>treats</td>\n",
       "      <td>REL_GROUP</td>\n",
       "    </tr>\n",
       "  </tbody>\n",
       "</table>\n",
       "<p>123 rows × 2 columns</p>\n",
       "</div>"
      ],
      "text/plain": [
       "                      name       type\n",
       "0                 Activity       NODE\n",
       "1                    Agent       NODE\n",
       "2         AnatomicalEntity       NODE\n",
       "3                 Behavior       NODE\n",
       "4        BehavioralFeature       NODE\n",
       "..                     ...        ...\n",
       "118          superclass_of  REL_GROUP\n",
       "119  temporally_related_to  REL_GROUP\n",
       "120       transcribed_from  REL_GROUP\n",
       "121          translates_to  REL_GROUP\n",
       "122                 treats  REL_GROUP\n",
       "\n",
       "[123 rows x 2 columns]"
      ]
     },
     "execution_count": 6,
     "metadata": {},
     "output_type": "execute_result"
    }
   ],
   "source": [
    "# gather table details from Kuzu database\n",
    "df_table_names_by_type = kz_conn.execute(\n",
    "    \"\"\"\n",
    "    /* SHOW_TABLES() is a special Kuzu function for\n",
    "    sharing database table details. */\n",
    "    CALL SHOW_TABLES()\n",
    "\n",
    "    /* filter to REL_GROUP's and NODE table types */\n",
    "    WHERE type IN ['REL_GROUP', 'NODE']\n",
    "\n",
    "    RETURN name, type\n",
    "    ORDER BY type, name ASC;\n",
    "    \"\"\"\n",
    ").get_as_df()\n",
    "df_table_names_by_type"
   ]
  },
  {
   "cell_type": "code",
   "execution_count": 7,
   "id": "9f5c175a-a9b6-45e9-bea0-2f3f57160b8c",
   "metadata": {},
   "outputs": [
    {
     "data": {
      "text/plain": [
       "{'node.id': 'UMLS:C2459634',\n",
       " 'node.name': 'Oral Peripheral Mechanism Assessment using Other Equipment',\n",
       " 'node.all_categories': ['biolink:Procedure'],\n",
       " 'node.category': 'biolink:Procedure'}"
      ]
     },
     "execution_count": 7,
     "metadata": {},
     "output_type": "execute_result"
    }
   ],
   "source": [
    "# gather node entity example from Kuzu database\n",
    "example_node = (\n",
    "    kz_conn.execute(\n",
    "        \"\"\"\n",
    "        /* match on arbitrary node */\n",
    "        MATCH (node)\n",
    "        WHERE node.id = 'UMLS:C2459634'\n",
    "        RETURN\n",
    "            node.*;\n",
    "        \"\"\"\n",
    "    )\n",
    "    .get_as_df()\n",
    "    .iloc[0]\n",
    "    .to_dict()\n",
    ")\n",
    "\n",
    "example_node"
   ]
  },
  {
   "cell_type": "code",
   "execution_count": 8,
   "id": "d88365a3-a6c2-4d92-b397-36be5e2ddd37",
   "metadata": {
    "lines_to_end_of_cell_marker": 2,
    "lines_to_next_cell": 2
   },
   "outputs": [
    {
     "data": {
      "text/plain": [
       "{'r.qualified_object_aspect': '',\n",
       " 'r.predicate': 'biolink:treats',\n",
       " 'r.domain_range_exclusion': 'True',\n",
       " 'r.qualified_object_direction': '',\n",
       " 'r.id': 19799062,\n",
       " 'r.primary_knowledge_source': 'infores:semmeddb',\n",
       " 'r.qualified_predicate': ''}"
      ]
     },
     "execution_count": 8,
     "metadata": {},
     "output_type": "execute_result"
    }
   ],
   "source": [
    "\"\"  # gather rel entity example from Kuzu database\n",
    "example_rel = (\n",
    "    kz_conn.execute(\n",
    "        \"\"\"\n",
    "        /* match on arbitrary relationship */\n",
    "        MATCH ()-[r:treats]-()\n",
    "        WHERE r.id = 19799062\n",
    "        RETURN\n",
    "            r.*;\n",
    "        \"\"\"\n",
    "    )\n",
    "    .get_as_df()\n",
    "    .iloc[0]\n",
    "    .to_dict()\n",
    ")\n",
    "\n",
    "# form a dictionary showing the schema and values together\n",
    "example_rel"
   ]
  },
  {
   "cell_type": "code",
   "execution_count": 9,
   "id": "c41b9600-5d61-4755-95c7-ed30716a321c",
   "metadata": {},
   "outputs": [],
   "source": [
    "def generate_entity_example_html_table(entity_json: dict) -> str:\n",
    "    \"\"\"\n",
    "    Generates an HTML table for showing\n",
    "    an example of entity data and schema.\n",
    "    \"\"\"\n",
    "    return f\"\"\"<table>\n",
    "<tr>\n",
    "<th>Example data</th>\n",
    "<th>Example data JSON schema</th>\n",
    "</tr>\n",
    "<td>\n",
    "\n",
    "```json\n",
    "{json.dumps(entity_json, indent=2)}\n",
    "```\n",
    "\n",
    "</td>\n",
    "<td>\n",
    "\n",
    "```json\n",
    "{infer_generic_json_schema_from_object(entity_json)}\n",
    "```\n",
    "\n",
    "</td>\n",
    "</tr>\n",
    "</table>\n",
    "\"\"\""
   ]
  },
  {
   "cell_type": "code",
   "execution_count": 10,
   "id": "6c60ddc7-a92f-4625-abee-45eb92b001f2",
   "metadata": {},
   "outputs": [],
   "source": [
    "with open(\n",
    "    \"rtx-kg2-gateway-kuzu-database-details.md\", mode=\"w\", encoding=\"utf-8\"\n",
    ") as markdown_file:\n",
    "\n",
    "    markdown_file.write(\n",
    "        \"\"\"# RTX-KG2-gateway Kuzu Database Schema Details\n",
    "\n",
    "Please see below for details on the Kuzu database associated with RTX-KG2 created as part of this project.\n",
    "\n",
    "## Table types\n",
    "\n",
    "Tables below are provided as either NODE or REL_GROUP tables.\n",
    "[REL_GROUPS](https://kuzudb.com/docusaurus/cypher/data-definition/create-table#create-rel-table-group) are specialized tables within Kuzu databases that are collections of NODE type pairs.\n",
    "REL_GROUPS are shown by name below which can be referenced as part of Cypher queries (instead of the more verbose and many NODE type pairs).\n",
    "\n",
    "\"\"\"\n",
    "    )\n",
    "\n",
    "    markdown_file.write(\n",
    "        \"\\n\\n\".join(\n",
    "            [\n",
    "                f\"\"\"### {table_type} Tables\n",
    "\n",
    "#### Example {table_type} Data and JSON Schema\n",
    "\n",
    "{generate_entity_example_html_table(example_node) if table_type == \"NODE\" else generate_entity_example_html_table(example_rel)}\n",
    "\n",
    "#### {table_type} Names\n",
    "\n",
    "{table_md_content}\n",
    "\"\"\"\n",
    "                for table_type, table_md_content in {\n",
    "                    table_type: df_table_names_by_type[\n",
    "                        df_table_names_by_type[\"type\"] == table_type\n",
    "                    ][[\"name\", \"type\"]].to_markdown(index=False)\n",
    "                    for table_type in df_table_names_by_type[\"type\"].unique().tolist()\n",
    "                }.items()\n",
    "            ]\n",
    "        )\n",
    "    )"
   ]
  },
  {
   "cell_type": "code",
   "execution_count": 11,
   "id": "a81e2aad-018d-48cf-b0cd-e08298e76d29",
   "metadata": {},
   "outputs": [
    {
     "data": {
      "text/html": [
       "<div>\n",
       "<style scoped>\n",
       "    .dataframe tbody tr th:only-of-type {\n",
       "        vertical-align: middle;\n",
       "    }\n",
       "\n",
       "    .dataframe tbody tr th {\n",
       "        vertical-align: top;\n",
       "    }\n",
       "\n",
       "    .dataframe thead th {\n",
       "        text-align: right;\n",
       "    }\n",
       "</style>\n",
       "<table border=\"1\" class=\"dataframe\">\n",
       "  <thead>\n",
       "    <tr style=\"text-align: right;\">\n",
       "      <th></th>\n",
       "      <th>d.id</th>\n",
       "      <th>d.name</th>\n",
       "      <th>d.all_categories</th>\n",
       "    </tr>\n",
       "  </thead>\n",
       "  <tbody>\n",
       "    <tr>\n",
       "      <th>0</th>\n",
       "      <td>MONDO:0008608</td>\n",
       "      <td>Down syndrome</td>\n",
       "      <td>[biolink:Disease]</td>\n",
       "    </tr>\n",
       "  </tbody>\n",
       "</table>\n",
       "</div>"
      ],
      "text/plain": [
       "            d.id         d.name   d.all_categories\n",
       "0  MONDO:0008608  Down syndrome  [biolink:Disease]"
      ]
     },
     "execution_count": 11,
     "metadata": {},
     "output_type": "execute_result"
    }
   ],
   "source": [
    "# run an example query\n",
    "kz_conn.execute(\n",
    "    \"\"\"\n",
    "    MATCH (d:Disease)\n",
    "    WHERE d.name = \"Down syndrome\"\n",
    "    RETURN d.id, d.name, d.all_categories;\n",
    "    \"\"\"\n",
    ").get_as_df()"
   ]
  }
 ],
 "metadata": {
  "kernelspec": {
   "display_name": "Python 3 (ipykernel)",
   "language": "python",
   "name": "python3"
  },
  "language_info": {
   "codemirror_mode": {
    "name": "ipython",
    "version": 3
   },
   "file_extension": ".py",
   "mimetype": "text/x-python",
   "name": "python",
   "nbconvert_exporter": "python",
   "pygments_lexer": "ipython3",
   "version": "3.11.2"
  }
 },
 "nbformat": 4,
 "nbformat_minor": 5
}
