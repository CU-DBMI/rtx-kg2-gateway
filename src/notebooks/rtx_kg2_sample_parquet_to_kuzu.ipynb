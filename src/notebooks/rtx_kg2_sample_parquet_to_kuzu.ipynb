{
 "cells": [
  {
   "cell_type": "markdown",
   "id": "94db8d0f-2dba-41af-a860-fcbe60c1824b",
   "metadata": {},
   "source": [
    "# Generate RTX-KG2 Data Sample and Schema"
   ]
  },
  {
   "cell_type": "code",
   "execution_count": 2,
   "id": "e598413e-509b-48b9-aab3-1c703b364c09",
   "metadata": {},
   "outputs": [],
   "source": [
    "import gzip\n",
    "import json\n",
    "import pathlib\n",
    "import shutil\n",
    "from typing import Any, Dict, Generator, List\n",
    "\n",
    "import awkward as ak\n",
    "import ijson\n",
    "import kuzu\n",
    "import pyarrow as pa\n",
    "import requests\n",
    "from genson import SchemaBuilder\n",
    "from pyarrow import parquet\n",
    "from rtx_kg2_functions import (\n",
    "    count_items_under_top_level_name,\n",
    "    find_top_level_names,\n",
    "    parse_items_by_topmost_item_name,\n",
    "    parse_metadata_by_object_name,\n",
    ")"
   ]
  },
  {
   "cell_type": "code",
   "execution_count": 3,
   "id": "46ab8fed-b335-4d55-a73e-a6904bc0bc46",
   "metadata": {
    "lines_to_next_cell": 2
   },
   "outputs": [],
   "source": [
    "# set data to be used throughout notebook\n",
    "chunk_size = 1\n",
    "data_dir = \"data\"\n",
    "parquet_dir = f\"{data_dir}/\"\n",
    "source_data_url = \"https://github.com/ncats/translator-lfs-artifacts/raw/main/files/kg2c_lite_2.8.4.json.gz\"\n",
    "target_extracted_sample_data = f\"{data_dir}/{pathlib.Path(source_data_url).name.replace('.json.gz', '.sample.json')}\"\n",
    "parquet_dir = target_extracted_sample_data.replace(\".json\", \".dataset.parquet\")\n",
    "kuzu_dir = target_extracted_sample_data.replace(\".json\", \".dataset.kuzu\")\n",
    "target_extracted_sample_data_schema_file = target_extracted_sample_data.replace(\n",
    "    \".json\", \".schema.json\"\n",
    ")"
   ]
  },
  {
   "cell_type": "code",
   "execution_count": 4,
   "id": "3dc7f93e-e2ea-4840-868b-885afaff38f9",
   "metadata": {},
   "outputs": [],
   "source": [
    "pathlib.Path(kuzu_dir).mkdir(exist_ok=True)"
   ]
  },
  {
   "cell_type": "code",
   "execution_count": 10,
   "id": "b65ae82e-cdb2-4c10-a5a5-4114c327a06c",
   "metadata": {},
   "outputs": [
    {
     "ename": "AttributeError",
     "evalue": "'str' object has no attribute 'stem'",
     "output_type": "error",
     "traceback": [
      "\u001b[0;31m---------------------------------------------------------------------------\u001b[0m",
      "\u001b[0;31mAttributeError\u001b[0m                            Traceback (most recent call last)",
      "Cell \u001b[0;32mIn[10], line 1\u001b[0m\n\u001b[0;32m----> 1\u001b[0m db \u001b[38;5;241m=\u001b[39m kuzu\u001b[38;5;241m.\u001b[39mDatabase(\u001b[38;5;124mf\u001b[39m\u001b[38;5;124m\"\u001b[39m\u001b[38;5;132;01m{\u001b[39;00mkuzu_dir\u001b[38;5;132;01m}\u001b[39;00m\u001b[38;5;124m/\u001b[39m\u001b[38;5;132;01m{\u001b[39;00m\u001b[43mpathlib\u001b[49m\u001b[38;5;241;43m.\u001b[39;49m\u001b[43mPath\u001b[49m\u001b[43m(\u001b[49m\u001b[43msource_data_url\u001b[49m\u001b[43m)\u001b[49m\u001b[38;5;241;43m.\u001b[39;49m\u001b[43mstem\u001b[49m\u001b[38;5;241;43m.\u001b[39;49m\u001b[43mstem\u001b[49m\u001b[38;5;132;01m}\u001b[39;00m\u001b[38;5;124m\"\u001b[39m)\n\u001b[1;32m      2\u001b[0m conn \u001b[38;5;241m=\u001b[39m kuzu\u001b[38;5;241m.\u001b[39mConnection(db)\n",
      "\u001b[0;31mAttributeError\u001b[0m: 'str' object has no attribute 'stem'"
     ]
    }
   ],
   "source": [
    "db = kuzu.Database(f\"{kuzu_dir}\")\n",
    "conn = kuzu.Connection(db)"
   ]
  },
  {
   "cell_type": "code",
   "execution_count": 9,
   "id": "211ad500-7684-43cc-b124-97d1f6063a93",
   "metadata": {},
   "outputs": [],
   "source": [
    "def generate_cypher_table_create_stmt_from_parquet_file(parquet_file: str):\n",
    "    parquet_schema = parquet.read_schema(parquet_file)\n",
    "\n",
    "    # Map Parquet data types to Cypher data types\n",
    "    cypher_type_mapping = {\n",
    "        \"STRING\": \"String\",\n",
    "        \"INT32\": \"Integer\",\n",
    "        \"INT64\": \"Integer\",\n",
    "        \"FLOAT\": \"Float\",\n",
    "        \"DOUBLE\": \"Float\",\n",
    "    }\n",
    "\n",
    "    # Generate Cypher statements\n",
    "    create_statements = []\n",
    "    for field in parquet_schema:\n",
    "        cypher_type = cypher_type_mapping.get(field.type.to_pandas_dtype().name)\n",
    "        if cypher_type:\n",
    "            create_statements.append(f\"{field.name}: {cypher_type} }\")"
   ]
  },
  {
   "cell_type": "code",
   "execution_count": null,
   "id": "a6f88caf-239a-4be7-86ff-919d39ca10fd",
   "metadata": {},
   "outputs": [],
   "source": []
  }
 ],
 "metadata": {
  "kernelspec": {
   "display_name": "Python 3 (ipykernel)",
   "language": "python",
   "name": "python3"
  },
  "language_info": {
   "codemirror_mode": {
    "name": "ipython",
    "version": 3
   },
   "file_extension": ".py",
   "mimetype": "text/x-python",
   "name": "python",
   "nbconvert_exporter": "python",
   "pygments_lexer": "ipython3",
   "version": "3.11.2"
  }
 },
 "nbformat": 4,
 "nbformat_minor": 5
}
