{
 "cells": [
  {
   "cell_type": "markdown",
   "id": "94db8d0f-2dba-41af-a860-fcbe60c1824b",
   "metadata": {},
   "source": [
    "# Generate RTX-KG2 Data Sample and Schema"
   ]
  },
  {
   "cell_type": "code",
   "execution_count": 1,
   "id": "e598413e-509b-48b9-aab3-1c703b364c09",
   "metadata": {},
   "outputs": [],
   "source": [
    "import gzip\n",
    "import json\n",
    "import pathlib\n",
    "import shutil\n",
    "from typing import Any, Dict, Generator, List\n",
    "\n",
    "import ijson\n",
    "import requests\n",
    "from genson import SchemaBuilder\n",
    "from rtx_kg2_functions import (\n",
    "    count_items_under_top_level_name,\n",
    "    download_file,\n",
    "    find_top_level_names,\n",
    "    parse_items_by_topmost_item_name,\n",
    ")"
   ]
  },
  {
   "cell_type": "code",
   "execution_count": 25,
   "id": "46ab8fed-b335-4d55-a73e-a6904bc0bc46",
   "metadata": {
    "lines_to_end_of_cell_marker": 2,
    "lines_to_next_cell": 2
   },
   "outputs": [],
   "source": [
    "# set data to be used throughout notebook\n",
    "data_dir = \"data\"\n",
    "source_data_url = \"https://github.com/ncats/translator-lfs-artifacts/raw/main/files/kg2c_lite_2.8.4.json.gz\"\n",
    "target_data = f\"{data_dir}/{pathlib.Path(source_data_url).name}\"\n",
    "target_extracted_data = f\"{data_dir}/{pathlib.Path(source_data_url).stem}\"\n",
    "target_extracted_sample_data = target_extracted_data.replace(\".json\", \".sample.json\")\n",
    "target_extracted_sample_data_schema = target_extracted_data.replace(\n",
    "    \".json\", \".sample.schema.json\"\n",
    ")\n",
    "chunk_size = 2\n",
    "\n",
    "json_schema_init = {\n",
    "    \"$id\": \"https://github.com/CU-DBMI/rtx-kg2-gateway/src/notebooks/data/kg2c_lite_2.8.4.schema.json\",\n",
    "    \"description\": \"Inferred JSON Schema from subset of RTX-KG2 JSON data for documenting data provenance.\",\n",
    "    \"type\": \"object\",\n",
    "    \"properties\": {},\n",
    "}"
   ]
  },
  {
   "cell_type": "code",
   "execution_count": 5,
   "id": "95431d41-b1df-4863-92ab-cf62f2c45cef",
   "metadata": {},
   "outputs": [
    {
     "data": {
      "text/plain": [
       "'kg2c_lite_2.8.4.json.gz'"
      ]
     },
     "execution_count": 5,
     "metadata": {},
     "output_type": "execute_result"
    }
   ],
   "source": [
    "# perform download of source data\n",
    "download_file(source_data_url, data_dir)"
   ]
  },
  {
   "cell_type": "code",
   "execution_count": 6,
   "id": "211ad500-7684-43cc-b124-97d1f6063a93",
   "metadata": {},
   "outputs": [],
   "source": [
    "# extract gz file\n",
    "with open(target_extracted_data, \"wb\") as f_out, gzip.open(target_data, \"rb\") as f_in:\n",
    "    shutil.copyfileobj(f_in, f_out)"
   ]
  },
  {
   "cell_type": "code",
   "execution_count": 9,
   "id": "d074a0ed-0ab6-4f93-adc4-5e382c1d0771",
   "metadata": {},
   "outputs": [
    {
     "name": "stdout",
     "output_type": "stream",
     "text": [
      "['nodes', 'edges', 'kg2_version', 'biolink_version']\n"
     ]
    }
   ],
   "source": [
    "# show the top level object names for json file\n",
    "top_level_names = list(find_top_level_names(target_extracted_data))\n",
    "print(top_level_names)"
   ]
  },
  {
   "cell_type": "code",
   "execution_count": 11,
   "id": "c516c30b-c763-4183-825d-32b2e18aa899",
   "metadata": {},
   "outputs": [
    {
     "data": {
      "text/plain": [
       "{'nodes': 6816758, 'edges': 45363861, 'kg2_version': 0, 'biolink_version': 0}"
      ]
     },
     "execution_count": 11,
     "metadata": {},
     "output_type": "execute_result"
    }
   ],
   "source": [
    "# count the number of items under each top level name\n",
    "top_level_name_item_counts = {\n",
    "    top_level_name: count_items_under_top_level_name(\n",
    "        target_extracted_data, top_level_name\n",
    "    )\n",
    "    for top_level_name in top_level_names\n",
    "}\n",
    "top_level_name_item_counts"
   ]
  },
  {
   "cell_type": "code",
   "execution_count": 12,
   "id": "f34698d8-9959-4eb3-a12b-3107dce781da",
   "metadata": {},
   "outputs": [
    {
     "data": {
      "text/plain": [
       "['kg2_version', 'biolink_version']"
      ]
     },
     "execution_count": 12,
     "metadata": {},
     "output_type": "execute_result"
    }
   ],
   "source": [
    "# gather metadata names by inference from item count\n",
    "metadata_top_level_names = [\n",
    "    top_level_name\n",
    "    for top_level_name, count in top_level_name_item_counts.items()\n",
    "    if count == 0\n",
    "]\n",
    "metadata_top_level_names"
   ]
  },
  {
   "cell_type": "code",
   "execution_count": 14,
   "id": "754af69c-3394-4c91-8c45-57b4e54df3c7",
   "metadata": {},
   "outputs": [
    {
     "data": {
      "text/plain": [
       "{'nodes': [{'id': 'biolink_download_source:biolink-model.owl.ttl',\n",
       "   'name': 'Biolink meta-model version downloaded:2023-07-20 21:19:46 GMT',\n",
       "   'all_categories': ['biolink:RetrievalSource'],\n",
       "   'category': 'biolink:RetrievalSource'},\n",
       "  {'id': 'biolink:overlaps',\n",
       "   'name': 'overlaps',\n",
       "   'all_categories': ['biolink:InformationContentEntity'],\n",
       "   'category': 'biolink:InformationContentEntity'}],\n",
       " 'edges': [{'qualified_object_aspect': '',\n",
       "   'predicate': 'biolink:subclass_of',\n",
       "   'domain_range_exclusion': 'False',\n",
       "   'object': 'biolink:overlaps',\n",
       "   'qualified_object_direction': '',\n",
       "   'id': 1,\n",
       "   'primary_knowledge_source': 'infores:biolink-ontology',\n",
       "   'subject': 'FMA:has_part',\n",
       "   'qualified_predicate': ''},\n",
       "  {'qualified_object_aspect': '',\n",
       "   'predicate': 'biolink:subclass_of',\n",
       "   'domain_range_exclusion': 'False',\n",
       "   'object': 'biolink:overlaps',\n",
       "   'qualified_object_direction': '',\n",
       "   'id': 2,\n",
       "   'primary_knowledge_source': 'infores:biolink-ontology',\n",
       "   'subject': 'UMLS:C1292711',\n",
       "   'qualified_predicate': ''}]}"
      ]
     },
     "execution_count": 14,
     "metadata": {},
     "output_type": "execute_result"
    }
   ],
   "source": [
    "# build a sample of data using limited number of items\n",
    "sample_items_dict = {}\n",
    "for top_level_name in [\n",
    "    name for name in top_level_names if name not in metadata_top_level_names\n",
    "]:\n",
    "    items = parse_items_by_topmost_item_name(\n",
    "        target_extracted_data, top_level_name, chunk_size, 1\n",
    "    )\n",
    "    for value in items:\n",
    "        sample_items_dict[top_level_name] = list(value)\n",
    "sample_items_dict"
   ]
  },
  {
   "cell_type": "code",
   "execution_count": 15,
   "id": "895f978c-dd54-4eeb-b082-f8d50db3eac1",
   "metadata": {},
   "outputs": [],
   "source": [
    "def parse_metadata_by_object_name(\n",
    "    json_file: str, metadata_object_name: str\n",
    ") -> Generator[Any, None, None]:\n",
    "    \"\"\"\n",
    "    Extract single value metadata from json file\n",
    "    \"\"\"\n",
    "\n",
    "    with open(json_file, \"r\") as f:\n",
    "        return next(ijson.items(f, metadata_object_name))"
   ]
  },
  {
   "cell_type": "code",
   "execution_count": 16,
   "id": "1e4b32aa-f140-454a-96c0-bcfce8c5a83f",
   "metadata": {},
   "outputs": [
    {
     "data": {
      "text/plain": [
       "{'kg2_version': '2.8.4', 'biolink_version': '3.1.2'}"
      ]
     },
     "execution_count": 16,
     "metadata": {},
     "output_type": "execute_result"
    }
   ],
   "source": [
    "# build a metadata dict\n",
    "metadata_dict = {\n",
    "    metadata_top_level_name: parse_metadata_by_object_name(\n",
    "        target_extracted_data, metadata_top_level_name\n",
    "    )\n",
    "    for metadata_top_level_name in metadata_top_level_names\n",
    "}\n",
    "metadata_dict"
   ]
  },
  {
   "cell_type": "code",
   "execution_count": 17,
   "id": "ed605810-55e1-4ed2-8bb3-fdc85584db6a",
   "metadata": {},
   "outputs": [
    {
     "name": "stdout",
     "output_type": "stream",
     "text": [
      "{'nodes': [{'id': 'biolink_download_source:biolink-model.owl.ttl', 'name': 'Biolink meta-model version downloaded:2023-07-20 21:19:46 GMT', 'all_categories': ['biolink:RetrievalSource'], 'category': 'biolink:RetrievalSource'}, {'id': 'biolink:overlaps', 'name': 'overlaps', 'all_categories': ['biolink:InformationContentEntity'], 'category': 'biolink:InformationContentEntity'}], 'edges': [{'qualified_object_aspect': '', 'predicate': 'biolink:subclass_of', 'domain_range_exclusion': 'False', 'object': 'biolink:overlaps', 'qualified_object_direction': '', 'id': 1, 'primary_knowledge_source': 'infores:biolink-ontology', 'subject': 'FMA:has_part', 'qualified_predicate': ''}, {'qualified_object_aspect': '', 'predicate': 'biolink:subclass_of', 'domain_range_exclusion': 'False', 'object': 'biolink:overlaps', 'qualified_object_direction': '', 'id': 2, 'primary_knowledge_source': 'infores:biolink-ontology', 'subject': 'UMLS:C1292711', 'qualified_predicate': ''}], 'kg2_version': '2.8.4', 'biolink_version': '3.1.2'}\n"
     ]
    }
   ],
   "source": [
    "# combine the meta with the items for a full sample\n",
    "full_sample_dict = dict(sample_items_dict, **metadata_dict)\n",
    "print(full_sample_dict)"
   ]
  },
  {
   "cell_type": "code",
   "execution_count": 21,
   "id": "a5192a23-56ff-41de-be90-d738508153f0",
   "metadata": {},
   "outputs": [],
   "source": [
    "# write sample to file\n",
    "with open(target_extracted_sample_data, \"w\") as file:\n",
    "    file.write(json.dumps(full_sample_dict, indent=2))"
   ]
  },
  {
   "cell_type": "code",
   "execution_count": 28,
   "id": "babde252-3459-480c-a893-21ba21c61f3b",
   "metadata": {},
   "outputs": [
    {
     "name": "stdout",
     "output_type": "stream",
     "text": [
      "{\n",
      "  \"$schema\": \"http://json-schema.org/schema#\",\n",
      "  \"$id\": \"https://github.com/CU-DBMI/rtx-kg2-gateway/src/notebooks/data/kg2c_lite_2.8.4.schema.json\",\n",
      "  \"description\": \"Inferred JSON Schema from subset of RTX-KG2 JSON data for documenting data provenance.\",\n",
      "  \"type\": \"object\",\n",
      "  \"properties\": {\n",
      "    \"nodes\": {\n",
      "      \"type\": \"array\",\n",
      "      \"items\": {\n",
      "        \"type\": \"object\",\n",
      "        \"properties\": {\n",
      "          \"id\": {\n",
      "            \"type\": \"string\"\n",
      "          },\n",
      "          \"name\": {\n",
      "            \"type\": \"string\"\n",
      "          },\n",
      "          \"all_categories\": {\n",
      "            \"type\": \"array\",\n",
      "            \"items\": {\n",
      "              \"type\": \"string\"\n",
      "            }\n",
      "          },\n",
      "          \"category\": {\n",
      "            \"type\": \"string\"\n",
      "          }\n",
      "        },\n",
      "        \"required\": [\n",
      "          \"all_categories\",\n",
      "          \"category\",\n",
      "          \"id\",\n",
      "          \"name\"\n",
      "        ]\n",
      "      }\n",
      "    },\n",
      "    \"edges\": {\n",
      "      \"type\": \"array\",\n",
      "      \"items\": {\n",
      "        \"type\": \"object\",\n",
      "        \"properties\": {\n",
      "          \"qualified_object_aspect\": {\n",
      "            \"type\": \"string\"\n",
      "          },\n",
      "          \"predicate\": {\n",
      "            \"type\": \"string\"\n",
      "          },\n",
      "          \"domain_range_exclusion\": {\n",
      "            \"type\": \"string\"\n",
      "          },\n",
      "          \"object\": {\n",
      "            \"type\": \"string\"\n",
      "          },\n",
      "          \"qualified_object_direction\": {\n",
      "            \"type\": \"string\"\n",
      "          },\n",
      "          \"id\": {\n",
      "            \"type\": \"integer\"\n",
      "          },\n",
      "          \"primary_knowledge_source\": {\n",
      "            \"type\": \"string\"\n",
      "          },\n",
      "          \"subject\": {\n",
      "            \"type\": \"string\"\n",
      "          },\n",
      "          \"qualified_predicate\": {\n",
      "            \"type\": \"string\"\n",
      "          }\n",
      "        },\n",
      "        \"required\": [\n",
      "          \"domain_range_exclusion\",\n",
      "          \"id\",\n",
      "          \"object\",\n",
      "          \"predicate\",\n",
      "          \"primary_knowledge_source\",\n",
      "          \"qualified_object_aspect\",\n",
      "          \"qualified_object_direction\",\n",
      "          \"qualified_predicate\",\n",
      "          \"subject\"\n",
      "        ]\n",
      "      }\n",
      "    },\n",
      "    \"kg2_version\": {\n",
      "      \"type\": \"string\"\n",
      "    },\n",
      "    \"biolink_version\": {\n",
      "      \"type\": \"string\"\n",
      "    }\n",
      "  },\n",
      "  \"required\": [\n",
      "    \"biolink_version\",\n",
      "    \"edges\",\n",
      "    \"kg2_version\",\n",
      "    \"nodes\"\n",
      "  ]\n",
      "}\n"
     ]
    }
   ],
   "source": [
    "# infer the schema from sample json using genson\n",
    "builder = SchemaBuilder()\n",
    "builder.add_schema(json_schema_init)\n",
    "builder.add_object(full_sample_dict)\n",
    "inferred_json_schema = builder.to_json(indent=2)\n",
    "print(builder.to_json(indent=2))"
   ]
  },
  {
   "cell_type": "code",
   "execution_count": 30,
   "id": "0527df75-5a17-46e8-8b80-d4574e74a187",
   "metadata": {},
   "outputs": [],
   "source": [
    "# write sample schema to file\n",
    "with open(target_extracted_sample_data_schema, \"w\") as file:\n",
    "    file.write(inferred_json_schema)"
   ]
  }
 ],
 "metadata": {
  "kernelspec": {
   "display_name": "Python 3 (ipykernel)",
   "language": "python",
   "name": "python3"
  },
  "language_info": {
   "codemirror_mode": {
    "name": "ipython",
    "version": 3
   },
   "file_extension": ".py",
   "mimetype": "text/x-python",
   "name": "python",
   "nbconvert_exporter": "python",
   "pygments_lexer": "ipython3",
   "version": "3.11.2"
  }
 },
 "nbformat": 4,
 "nbformat_minor": 5
}
