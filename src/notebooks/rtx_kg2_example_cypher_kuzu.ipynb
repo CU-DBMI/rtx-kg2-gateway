{
 "cells": [
  {
   "cell_type": "markdown",
   "id": "0700919d-94b3-4ef4-8e47-7e5359df7268",
   "metadata": {},
   "source": [
    "# Example Cypher Read of RTX-KG2 with Kuzu"
   ]
  },
  {
   "cell_type": "code",
   "execution_count": null,
   "id": "28694dbd-b69f-493f-94d5-1a03a042602e",
   "metadata": {},
   "outputs": [],
   "source": [
    "import os\n",
    "import pathlib\n",
    "import tarfile\n",
    "\n",
    "import gdown\n",
    "import kuzu"
   ]
  },
  {
   "cell_type": "code",
   "execution_count": null,
   "id": "4d21b2e2-3297-47c6-bab3-03329adac08e",
   "metadata": {},
   "outputs": [],
   "source": [
    "# set some variables for the work below\n",
    "gdrive_url = \"https://drive.google.com/uc?id=1H9_jiLgvjr_AjoYPu_Pi9C_47Zm1lIei\"\n",
    "target_dir = \"data\"\n",
    "target_database_path = f\"{target_dir}/kg2c_lite_2.8.4.full.with-metanames.dataset.kuzu\""
   ]
  },
  {
   "cell_type": "code",
   "execution_count": null,
   "id": "0c6f1d66-6ac6-4382-82bb-f5797fe4a918",
   "metadata": {},
   "outputs": [],
   "source": [
    "def download_and_extract_gdrive(url, output_dir):\n",
    "\n",
    "    temp_download_path = \"temp.tar.gz\"\n",
    "\n",
    "    # Download the file from Google Drive\n",
    "    print(\"Downloading file.\")\n",
    "    gdown.download(url, temp_download_path, quiet=True)\n",
    "\n",
    "    # Extract the tar.gz file\n",
    "    print(\"Extracting database.\")\n",
    "    with tarfile.open(temp_download_path, \"r:gz\") as tar:\n",
    "        tar.extractall(output_dir)\n",
    "\n",
    "    print(\"Cleaning up download.\")\n",
    "    # Remove the temporary tar.gz file\n",
    "    pathlib.Path(temp_download_path).unlink()\n",
    "\n",
    "    return output_dir"
   ]
  },
  {
   "cell_type": "code",
   "execution_count": null,
   "id": "38147e18-b3d7-46ce-b1ab-11785fb426e9",
   "metadata": {},
   "outputs": [],
   "source": [
    "# niave check for existing database to avoid redownloading / extracting if possible\n",
    "if not pathlib.Path(target_database_path).is_dir():\n",
    "    download_and_extract_gdrive(gdrive_url, target_dir)"
   ]
  },
  {
   "cell_type": "code",
   "execution_count": null,
   "id": "f59cb90e-8d01-4e4f-a7a8-c909cde06c68",
   "metadata": {},
   "outputs": [],
   "source": [
    "# init a Kuzu database and connection\n",
    "db = kuzu.Database(target_database_path)\n",
    "kz_conn = kuzu.Connection(db)"
   ]
  },
  {
   "cell_type": "code",
   "execution_count": null,
   "id": "23b2dc5e-300f-42b2-8bd6-c0f1cb9aea79",
   "metadata": {},
   "outputs": [],
   "source": [
    "kz_conn.execute(\"CALL SHOW_TABLES() RETURN *;\").df()"
   ]
  }
 ],
 "metadata": {
  "kernelspec": {
   "display_name": "Python 3 (ipykernel)",
   "language": "python",
   "name": "python3"
  },
  "language_info": {
   "codemirror_mode": {
    "name": "ipython",
    "version": 3
   },
   "file_extension": ".py",
   "mimetype": "text/x-python",
   "name": "python",
   "nbconvert_exporter": "python",
   "pygments_lexer": "ipython3",
   "version": "3.11.2"
  }
 },
 "nbformat": 4,
 "nbformat_minor": 5
}
